{
  "nbformat": 4,
  "nbformat_minor": 0,
  "metadata": {
    "colab": {
      "provenance": []
    },
    "kernelspec": {
      "name": "python3",
      "display_name": "Python 3"
    },
    "language_info": {
      "name": "python"
    }
  },
  "cells": [
    {
      "cell_type": "code",
      "execution_count": null,
      "metadata": {
        "id": "VlDvj2x9FQRI"
      },
      "outputs": [],
      "source": []
    },
    {
      "cell_type": "markdown",
      "source": [
        "23MBD014\n"
      ],
      "metadata": {
        "id": "a5oGBnCJFcCJ"
      }
    },
    {
      "cell_type": "markdown",
      "source": [
        "Enabling Technologies for Data Science -II"
      ],
      "metadata": {
        "id": "7DvnhcM2FlWr"
      }
    },
    {
      "cell_type": "markdown",
      "source": [
        "Practical No.1"
      ],
      "metadata": {
        "id": "4VXlGPrKFr5Y"
      }
    },
    {
      "cell_type": "markdown",
      "source": [
        "Word Count with PySpark\n"
      ],
      "metadata": {
        "id": "JT5z0cQnVz0J"
      }
    },
    {
      "cell_type": "code",
      "source": [
        "pip install pyspark"
      ],
      "metadata": {
        "colab": {
          "base_uri": "https://localhost:8080/"
        },
        "id": "_RkFpNxKFwHT",
        "outputId": "82ca4710-cc9c-4dcb-ae19-37c7c24c4431"
      },
      "execution_count": null,
      "outputs": [
        {
          "output_type": "stream",
          "name": "stdout",
          "text": [
            "Collecting pyspark\n",
            "  Downloading pyspark-3.5.1.tar.gz (317.0 MB)\n",
            "\u001b[2K     \u001b[90m━━━━━━━━━━━━━━━━━━━━━━━━━━━━━━━━━━━━━━━━\u001b[0m \u001b[32m317.0/317.0 MB\u001b[0m \u001b[31m4.1 MB/s\u001b[0m eta \u001b[36m0:00:00\u001b[0m\n",
            "\u001b[?25h  Preparing metadata (setup.py) ... \u001b[?25l\u001b[?25hdone\n",
            "Requirement already satisfied: py4j==0.10.9.7 in /usr/local/lib/python3.10/dist-packages (from pyspark) (0.10.9.7)\n",
            "Building wheels for collected packages: pyspark\n",
            "  Building wheel for pyspark (setup.py) ... \u001b[?25l\u001b[?25hdone\n",
            "  Created wheel for pyspark: filename=pyspark-3.5.1-py2.py3-none-any.whl size=317488493 sha256=44563a9149871986bc2349fc644d60d2393f80344a21223757559753c9fc2629\n",
            "  Stored in directory: /root/.cache/pip/wheels/80/1d/60/2c256ed38dddce2fdd93be545214a63e02fbd8d74fb0b7f3a6\n",
            "Successfully built pyspark\n",
            "Installing collected packages: pyspark\n",
            "Successfully installed pyspark-3.5.1\n"
          ]
        }
      ]
    },
    {
      "cell_type": "code",
      "source": [
        "from pyspark import SparkConf, SparkContext"
      ],
      "metadata": {
        "id": "slvDuFm7F-M1"
      },
      "execution_count": null,
      "outputs": []
    },
    {
      "cell_type": "code",
      "source": [
        "conf = SparkConf().setAppName(\"PySparkWordCount\").setMaster(\"local\")\n",
        "sc=SparkContext(conf=conf)"
      ],
      "metadata": {
        "id": "u7kJ0ml6GXqW"
      },
      "execution_count": null,
      "outputs": []
    },
    {
      "cell_type": "code",
      "source": [
        "data_shikha=[\"hello world\",\"hello spark\",\"hello RDD\",\"hello PySpark\",\"hello shikha\"]\n",
        "rdd_shikha=sc.parallelize(data_shikha)"
      ],
      "metadata": {
        "id": "hVfhX2bgF-b6"
      },
      "execution_count": null,
      "outputs": []
    },
    {
      "cell_type": "code",
      "source": [
        "print(rdd_shikha.collect())"
      ],
      "metadata": {
        "id": "fEvGZPZnF_Gw",
        "colab": {
          "base_uri": "https://localhost:8080/"
        },
        "outputId": "ff42af92-1c61-4c23-8a60-ad0b216d440a"
      },
      "execution_count": null,
      "outputs": [
        {
          "output_type": "stream",
          "name": "stdout",
          "text": [
            "['hello world', 'hello spark', 'hello RDD', 'hello PySpark', 'hello shikha']\n"
          ]
        }
      ]
    },
    {
      "cell_type": "code",
      "source": [
        "words_rdd_shikha=rdd_shikha.flatMap(lambda sentence: sentence.split(\" \"))"
      ],
      "metadata": {
        "id": "p6LSm9CsF_Jy"
      },
      "execution_count": null,
      "outputs": []
    },
    {
      "cell_type": "code",
      "source": [
        "print(words_rdd_shikha.collect())"
      ],
      "metadata": {
        "id": "jS8G3lOxF_Mq",
        "colab": {
          "base_uri": "https://localhost:8080/"
        },
        "outputId": "22278b23-fc33-4f31-a0e8-a4e33eaf45cb"
      },
      "execution_count": null,
      "outputs": [
        {
          "output_type": "stream",
          "name": "stdout",
          "text": [
            "['hello', 'world', 'hello', 'spark', 'hello', 'RDD', 'hello', 'PySpark', 'hello', 'shikha']\n"
          ]
        }
      ]
    },
    {
      "cell_type": "code",
      "source": [
        "words_pairs_rdd_shikha=words_rdd_shikha.map(lambda word: (word, 1))"
      ],
      "metadata": {
        "id": "3uE-hWbqF_PT"
      },
      "execution_count": null,
      "outputs": []
    },
    {
      "cell_type": "code",
      "source": [
        "words_pairs_rdd_shikha=words_rdd_shikha.map(lambda word: (word, 1))"
      ],
      "metadata": {
        "id": "KRw8wxalHzcu"
      },
      "execution_count": null,
      "outputs": []
    },
    {
      "cell_type": "code",
      "source": [
        "print(words_pairs_rdd_shikha.collect())"
      ],
      "metadata": {
        "id": "_z_XqkJ9IAKv",
        "colab": {
          "base_uri": "https://localhost:8080/"
        },
        "outputId": "fa19b71b-5980-42d9-d172-923676090f23"
      },
      "execution_count": null,
      "outputs": [
        {
          "output_type": "stream",
          "name": "stdout",
          "text": [
            "[('hello', 1), ('world', 1), ('hello', 1), ('spark', 1), ('hello', 1), ('RDD', 1), ('hello', 1), ('PySpark', 1), ('hello', 1), ('shikha', 1)]\n"
          ]
        }
      ]
    },
    {
      "cell_type": "code",
      "source": [
        "words_counts_rdd_shikha=words_pairs_rdd_shikha.reduceByKey(lambda a,b: a+b)"
      ],
      "metadata": {
        "id": "VE93bfG8IJnO"
      },
      "execution_count": null,
      "outputs": []
    },
    {
      "cell_type": "code",
      "source": [
        "print(words_counts_rdd_shikha.collect())"
      ],
      "metadata": {
        "id": "W8i0RGnIF_SE",
        "colab": {
          "base_uri": "https://localhost:8080/"
        },
        "outputId": "63bb4e38-dd1f-4946-e249-87cddfba74fd"
      },
      "execution_count": null,
      "outputs": [
        {
          "output_type": "stream",
          "name": "stdout",
          "text": [
            "[('hello', 5), ('world', 1), ('spark', 1), ('RDD', 1), ('PySpark', 1), ('shikha', 1)]\n"
          ]
        }
      ]
    },
    {
      "cell_type": "code",
      "source": [
        "words_counts_shikha=words_counts_rdd_shikha.collect()"
      ],
      "metadata": {
        "id": "VXxp-FkkF_Uy"
      },
      "execution_count": null,
      "outputs": []
    },
    {
      "cell_type": "code",
      "source": [
        "print(words_counts_shikha)"
      ],
      "metadata": {
        "id": "ZTmWVmf4F_Xk",
        "colab": {
          "base_uri": "https://localhost:8080/"
        },
        "outputId": "2c1187ec-60e3-48cd-fb25-9ad04944638f"
      },
      "execution_count": null,
      "outputs": [
        {
          "output_type": "stream",
          "name": "stdout",
          "text": [
            "[('hello', 5), ('world', 1), ('spark', 1), ('RDD', 1), ('PySpark', 1), ('shikha', 1)]\n"
          ]
        }
      ]
    },
    {
      "cell_type": "code",
      "source": [
        "for word, count in words_counts_shikha:\n",
        "  print(f\"{word}: {count}\")"
      ],
      "metadata": {
        "id": "EmUkT27rF_Z8",
        "colab": {
          "base_uri": "https://localhost:8080/"
        },
        "outputId": "5e9bfb2a-7a8c-4be2-a5e7-ae728669c56f"
      },
      "execution_count": null,
      "outputs": [
        {
          "output_type": "stream",
          "name": "stdout",
          "text": [
            "hello: 5\n",
            "world: 1\n",
            "spark: 1\n",
            "RDD: 1\n",
            "PySpark: 1\n",
            "shikha: 1\n"
          ]
        }
      ]
    },
    {
      "cell_type": "code",
      "source": [
        "sc.stop() #Stop the Spark context"
      ],
      "metadata": {
        "id": "Nq7BJjF5F_di"
      },
      "execution_count": null,
      "outputs": []
    },
    {
      "cell_type": "markdown",
      "source": [
        "23MBD014"
      ],
      "metadata": {
        "id": "9luD-wRwLFtJ"
      }
    },
    {
      "cell_type": "markdown",
      "source": [
        "Enabling Technologies for Data Science-II"
      ],
      "metadata": {
        "id": "E9b_2Z_1LFwb"
      }
    },
    {
      "cell_type": "markdown",
      "source": [
        "Practical NO.2"
      ],
      "metadata": {
        "id": "iTiRjDLnLFzQ"
      }
    },
    {
      "cell_type": "markdown",
      "source": [
        "Temperature Conversion with PySpark"
      ],
      "metadata": {
        "id": "VwUiEwZKLF2L"
      }
    },
    {
      "cell_type": "code",
      "source": [
        "pip install PySpark"
      ],
      "metadata": {
        "id": "I44H6C2pLa5_",
        "colab": {
          "base_uri": "https://localhost:8080/"
        },
        "outputId": "9f17f81e-8d62-4692-fc16-3907893d5367"
      },
      "execution_count": null,
      "outputs": [
        {
          "output_type": "stream",
          "name": "stdout",
          "text": [
            "Requirement already satisfied: PySpark in /usr/local/lib/python3.10/dist-packages (3.5.1)\n",
            "Requirement already satisfied: py4j==0.10.9.7 in /usr/local/lib/python3.10/dist-packages (from PySpark) (0.10.9.7)\n"
          ]
        }
      ]
    },
    {
      "cell_type": "code",
      "source": [
        "from pyspark import SparkContext, SparkConf"
      ],
      "metadata": {
        "id": "hFN-q9PaLa8m"
      },
      "execution_count": null,
      "outputs": []
    },
    {
      "cell_type": "code",
      "source": [
        "conf=SparkConf().setAppName(\"PySparkTemperatureConversion\").setMaster(\"local\")\n",
        "sc=SparkContext(conf=conf)"
      ],
      "metadata": {
        "id": "n9yVicWeLa_B"
      },
      "execution_count": null,
      "outputs": []
    },
    {
      "cell_type": "code",
      "source": [
        "celsius_temps_shikha=[0,20,30,40,100]\n",
        "rdd=sc.parallelize(celsius_temps_shikha)"
      ],
      "metadata": {
        "id": "KWrxpWSaLbBh"
      },
      "execution_count": null,
      "outputs": []
    },
    {
      "cell_type": "code",
      "source": [
        "fahrenheit_rdd_shikha=rdd.map(lambda c: (c, (c *9/5)+32))"
      ],
      "metadata": {
        "id": "CIRpijebLbD5"
      },
      "execution_count": null,
      "outputs": []
    },
    {
      "cell_type": "code",
      "source": [
        "print(fahrenheit_rdd_shikha.collect())"
      ],
      "metadata": {
        "id": "B7Ad9N2ULbGM",
        "colab": {
          "base_uri": "https://localhost:8080/"
        },
        "outputId": "e988a4ee-2ae2-45a5-9802-9294d1f1f048"
      },
      "execution_count": null,
      "outputs": [
        {
          "output_type": "stream",
          "name": "stdout",
          "text": [
            "[(0, 32.0), (20, 68.0), (30, 86.0), (40, 104.0), (100, 212.0)]\n"
          ]
        }
      ]
    },
    {
      "cell_type": "code",
      "source": [
        "fahrenheit_temps_shikha=fahrenheit_rdd_shikha.collect()"
      ],
      "metadata": {
        "id": "e9MLa6FpLbI1"
      },
      "execution_count": null,
      "outputs": []
    },
    {
      "cell_type": "code",
      "source": [
        "print(fahrenheit_temps_shikha)"
      ],
      "metadata": {
        "id": "1A8TEAtaLbMT",
        "colab": {
          "base_uri": "https://localhost:8080/"
        },
        "outputId": "1393f0ff-a872-4aa9-9f07-c9924df04a97"
      },
      "execution_count": null,
      "outputs": [
        {
          "output_type": "stream",
          "name": "stdout",
          "text": [
            "[(0, 32.0), (20, 68.0), (30, 86.0), (40, 104.0), (100, 212.0)]\n"
          ]
        }
      ]
    },
    {
      "cell_type": "code",
      "source": [
        "for c, f in fahrenheit_temps_shikha:\n",
        "  print(f\"{c} Celsius is equal to {f} Fahrenheit\")"
      ],
      "metadata": {
        "id": "RC0Lxg8vMcGX",
        "colab": {
          "base_uri": "https://localhost:8080/"
        },
        "outputId": "71b87e3e-16aa-4e2c-af8c-51861b416fca"
      },
      "execution_count": null,
      "outputs": [
        {
          "output_type": "stream",
          "name": "stdout",
          "text": [
            "0 Celsius is equal to 32.0 Fahrenheit\n",
            "20 Celsius is equal to 68.0 Fahrenheit\n",
            "30 Celsius is equal to 86.0 Fahrenheit\n",
            "40 Celsius is equal to 104.0 Fahrenheit\n",
            "100 Celsius is equal to 212.0 Fahrenheit\n"
          ]
        }
      ]
    },
    {
      "cell_type": "code",
      "source": [
        "sc.stop()"
      ],
      "metadata": {
        "id": "M5tpKJu9McIZ"
      },
      "execution_count": null,
      "outputs": []
    },
    {
      "cell_type": "markdown",
      "source": [
        "23MBD014"
      ],
      "metadata": {
        "id": "_OU-w-oMNz8O"
      }
    },
    {
      "cell_type": "markdown",
      "source": [
        "Enabling Technologies for Data Science - II"
      ],
      "metadata": {
        "id": "zftxLH6AN0Qf"
      }
    },
    {
      "cell_type": "markdown",
      "source": [
        "Practical No.3"
      ],
      "metadata": {
        "id": "gfDEeB1YN0eA"
      }
    },
    {
      "cell_type": "markdown",
      "source": [
        "Spark Analysis on Iris Dataset"
      ],
      "metadata": {
        "id": "jgs8UyEkN-H0"
      }
    },
    {
      "cell_type": "code",
      "source": [
        "pip install pyspark"
      ],
      "metadata": {
        "id": "YW2o9FUcOFVZ",
        "colab": {
          "base_uri": "https://localhost:8080/"
        },
        "outputId": "1d865a0f-2b17-4a79-d946-e705fbc11b1f"
      },
      "execution_count": null,
      "outputs": [
        {
          "output_type": "stream",
          "name": "stdout",
          "text": [
            "Requirement already satisfied: pyspark in /usr/local/lib/python3.10/dist-packages (3.5.1)\n",
            "Requirement already satisfied: py4j==0.10.9.7 in /usr/local/lib/python3.10/dist-packages (from pyspark) (0.10.9.7)\n"
          ]
        }
      ]
    },
    {
      "cell_type": "code",
      "source": [
        "from pyspark.sql import SparkSession\n",
        "from pyspark.sql.functions import col"
      ],
      "metadata": {
        "id": "DlOuhdM5OFX5"
      },
      "execution_count": null,
      "outputs": []
    },
    {
      "cell_type": "code",
      "source": [
        "spark = SparkSession.builder.appName(\"IrisDatasetExample\").getOrCreate()"
      ],
      "metadata": {
        "id": "eXCGSEeqOFaU"
      },
      "execution_count": null,
      "outputs": []
    },
    {
      "cell_type": "code",
      "source": [
        "iris_data_shikha = [\n",
        "(5.1, 3.5, 1.4, 0.2, \"Iris-setosa\"),\n",
        "(4.9, 3.0, 1.4, 0.2, \"Iris-setosa\"),\n",
        "(4.7, 3.2, 1.3, 0.2, \"Iris-setosa\"),\n",
        "(7.0, 3.2, 4.7, 1.4, \"Iris-versicolor\"),\n",
        "(6.4, 3.2, 4.5, 1.5, \"Iris-versicolor\"),\n",
        "(6.9, 3.1, 4.9, 1.5, \"Iris-versicolor\"),\n",
        "(5.9, 3.0, 5.1, 1.8, \"Iris-virginica\"),\n",
        "(6.8, 3.0, 5.5, 2.1, \"Iris-virginica\"),\n",
        "(6.7, 3.1, 5.6, 2.4, \"Iris-virginica\")\n",
        "]"
      ],
      "metadata": {
        "id": "TCT0IsuGOFc3"
      },
      "execution_count": null,
      "outputs": []
    },
    {
      "cell_type": "code",
      "source": [
        "columns_shikha= [\"sepal_length\", \"sepal_width\", \"petal_length\", \"petal_width\", \"species\"]"
      ],
      "metadata": {
        "id": "CWoJF-clOFfQ"
      },
      "execution_count": null,
      "outputs": []
    },
    {
      "cell_type": "code",
      "source": [
        "df_shikha = spark.createDataFrame(iris_data_shikha, schema=columns_shikha)"
      ],
      "metadata": {
        "id": "Q1hMJFQbOFhs"
      },
      "execution_count": null,
      "outputs": []
    },
    {
      "cell_type": "code",
      "source": [
        "df_shikha.show()"
      ],
      "metadata": {
        "id": "Sy7qBFEQOFj6",
        "colab": {
          "base_uri": "https://localhost:8080/"
        },
        "outputId": "32d414e9-7749-45e2-8a51-38fbaf53b823"
      },
      "execution_count": null,
      "outputs": [
        {
          "output_type": "stream",
          "name": "stdout",
          "text": [
            "+------------+-----------+------------+-----------+---------------+\n",
            "|sepal_length|sepal_width|petal_length|petal_width|        species|\n",
            "+------------+-----------+------------+-----------+---------------+\n",
            "|         5.1|        3.5|         1.4|        0.2|    Iris-setosa|\n",
            "|         4.9|        3.0|         1.4|        0.2|    Iris-setosa|\n",
            "|         4.7|        3.2|         1.3|        0.2|    Iris-setosa|\n",
            "|         7.0|        3.2|         4.7|        1.4|Iris-versicolor|\n",
            "|         6.4|        3.2|         4.5|        1.5|Iris-versicolor|\n",
            "|         6.9|        3.1|         4.9|        1.5|Iris-versicolor|\n",
            "|         5.9|        3.0|         5.1|        1.8| Iris-virginica|\n",
            "|         6.8|        3.0|         5.5|        2.1| Iris-virginica|\n",
            "|         6.7|        3.1|         5.6|        2.4| Iris-virginica|\n",
            "+------------+-----------+------------+-----------+---------------+\n",
            "\n"
          ]
        }
      ]
    },
    {
      "cell_type": "code",
      "source": [
        "df_filtered_shikha = df_shikha.filter(col(\"species\") == \"Iris-setosa\")"
      ],
      "metadata": {
        "id": "x5vjAIpqOFmd"
      },
      "execution_count": null,
      "outputs": []
    },
    {
      "cell_type": "code",
      "source": [
        "df_filtered_shikha.show()"
      ],
      "metadata": {
        "id": "_zjBtIx_OFow",
        "colab": {
          "base_uri": "https://localhost:8080/"
        },
        "outputId": "5529d561-87c9-4f5f-b88e-207331dba52c"
      },
      "execution_count": null,
      "outputs": [
        {
          "output_type": "stream",
          "name": "stdout",
          "text": [
            "+------------+-----------+------------+-----------+-----------+\n",
            "|sepal_length|sepal_width|petal_length|petal_width|    species|\n",
            "+------------+-----------+------------+-----------+-----------+\n",
            "|         5.1|        3.5|         1.4|        0.2|Iris-setosa|\n",
            "|         4.9|        3.0|         1.4|        0.2|Iris-setosa|\n",
            "|         4.7|        3.2|         1.3|        0.2|Iris-setosa|\n",
            "+------------+-----------+------------+-----------+-----------+\n",
            "\n"
          ]
        }
      ]
    },
    {
      "cell_type": "code",
      "source": [
        "spark.stop()"
      ],
      "metadata": {
        "id": "4EAC8tT_OFrc"
      },
      "execution_count": null,
      "outputs": []
    },
    {
      "cell_type": "markdown",
      "source": [
        "23MBD014"
      ],
      "metadata": {
        "id": "EMKALcMfRWnE"
      }
    },
    {
      "cell_type": "markdown",
      "source": [
        "Enabling Technologies for Data Science - II"
      ],
      "metadata": {
        "id": "4N2a5xzmRWvS"
      }
    },
    {
      "cell_type": "markdown",
      "source": [
        "Practical No.4"
      ],
      "metadata": {
        "id": "YKea6ftuRW25"
      }
    },
    {
      "cell_type": "markdown",
      "source": [
        "Spark Analysis on Wine Quality Dataset"
      ],
      "metadata": {
        "id": "rthxD_0GRXAB"
      }
    },
    {
      "cell_type": "code",
      "source": [
        "pip install pyspark"
      ],
      "metadata": {
        "id": "tTYeeD6ZOFt1",
        "colab": {
          "base_uri": "https://localhost:8080/"
        },
        "outputId": "c61758d6-1326-4b52-bacd-3b0973ae3b0c"
      },
      "execution_count": null,
      "outputs": [
        {
          "output_type": "stream",
          "name": "stdout",
          "text": [
            "Requirement already satisfied: pyspark in /usr/local/lib/python3.10/dist-packages (3.5.1)\n",
            "Requirement already satisfied: py4j==0.10.9.7 in /usr/local/lib/python3.10/dist-packages (from pyspark) (0.10.9.7)\n"
          ]
        }
      ]
    },
    {
      "cell_type": "code",
      "source": [
        "from pyspark.sql import SparkSession\n",
        "from pyspark.sql.functions import col"
      ],
      "metadata": {
        "id": "3_kBm28fRkjx"
      },
      "execution_count": null,
      "outputs": []
    },
    {
      "cell_type": "code",
      "source": [
        "spark_shikha = SparkSession.builder.appName(\"WineQualityAnalyzer\").getOrCreate()"
      ],
      "metadata": {
        "id": "rfDUm0mKRkml"
      },
      "execution_count": null,
      "outputs": []
    },
    {
      "cell_type": "code",
      "source": [
        "spark_shikha"
      ],
      "metadata": {
        "id": "IUe2szhYRkpN",
        "colab": {
          "base_uri": "https://localhost:8080/",
          "height": 219
        },
        "outputId": "4c50b6a8-d64e-499d-de83-ea42ff1fa559"
      },
      "execution_count": null,
      "outputs": [
        {
          "output_type": "execute_result",
          "data": {
            "text/plain": [
              "<pyspark.sql.session.SparkSession at 0x7953463eda80>"
            ],
            "text/html": [
              "\n",
              "            <div>\n",
              "                <p><b>SparkSession - in-memory</b></p>\n",
              "                \n",
              "        <div>\n",
              "            <p><b>SparkContext</b></p>\n",
              "\n",
              "            <p><a href=\"http://a41fba0b3d54:4040\">Spark UI</a></p>\n",
              "\n",
              "            <dl>\n",
              "              <dt>Version</dt>\n",
              "                <dd><code>v3.5.1</code></dd>\n",
              "              <dt>Master</dt>\n",
              "                <dd><code>local</code></dd>\n",
              "              <dt>AppName</dt>\n",
              "                <dd><code>WineQualityAnalyzer</code></dd>\n",
              "            </dl>\n",
              "        </div>\n",
              "        \n",
              "            </div>\n",
              "        "
            ]
          },
          "metadata": {},
          "execution_count": 42
        }
      ]
    },
    {
      "cell_type": "code",
      "source": [
        "df_shikha = spark_shikha.read.format(\"csv\").option(\"header\",\"true\").option(\"inferSchema\", \"true\").load(\"/content/winequality-red.csv\")"
      ],
      "metadata": {
        "id": "NF3C0x6NRkrz"
      },
      "execution_count": null,
      "outputs": []
    },
    {
      "cell_type": "code",
      "source": [
        "df_shikha.show(5)"
      ],
      "metadata": {
        "id": "eoQsaLIwRkug",
        "colab": {
          "base_uri": "https://localhost:8080/"
        },
        "outputId": "d0141cc6-3879-49f6-9ad0-47b319d742c8"
      },
      "execution_count": null,
      "outputs": [
        {
          "output_type": "stream",
          "name": "stdout",
          "text": [
            "+-------------+----------------+-----------+--------------+---------+-------------------+--------------------+-------+----+---------+-------+-------+\n",
            "|fixed acidity|volatile acidity|citric acid|residual sugar|chlorides|free sulfur dioxide|total sulfur dioxide|density|  pH|sulphates|alcohol|quality|\n",
            "+-------------+----------------+-----------+--------------+---------+-------------------+--------------------+-------+----+---------+-------+-------+\n",
            "|          7.4|             0.7|        0.0|           1.9|    0.076|               11.0|                34.0| 0.9978|3.51|     0.56|    9.4|      5|\n",
            "|          7.8|            0.88|        0.0|           2.6|    0.098|               25.0|                67.0| 0.9968| 3.2|     0.68|    9.8|      5|\n",
            "|          7.8|            0.76|       0.04|           2.3|    0.092|               15.0|                54.0|  0.997|3.26|     0.65|    9.8|      5|\n",
            "|         11.2|            0.28|       0.56|           1.9|    0.075|               17.0|                60.0|  0.998|3.16|     0.58|    9.8|      6|\n",
            "|          7.4|             0.7|        0.0|           1.9|    0.076|               11.0|                34.0| 0.9978|3.51|     0.56|    9.4|      5|\n",
            "+-------------+----------------+-----------+--------------+---------+-------------------+--------------------+-------+----+---------+-------+-------+\n",
            "only showing top 5 rows\n",
            "\n"
          ]
        }
      ]
    },
    {
      "cell_type": "code",
      "source": [
        "df_shikha_filtered_shikha= df_shikha.filter(col(\"quality\") >= 7)"
      ],
      "metadata": {
        "id": "nAvMKx-vRkxj"
      },
      "execution_count": null,
      "outputs": []
    },
    {
      "cell_type": "code",
      "source": [
        "df_shikha_filtered_shikha.show()"
      ],
      "metadata": {
        "id": "iFsuFLaSOFxV",
        "colab": {
          "base_uri": "https://localhost:8080/"
        },
        "outputId": "aba711cb-ff02-4f16-b5fe-5691f84a4770"
      },
      "execution_count": null,
      "outputs": [
        {
          "output_type": "stream",
          "name": "stdout",
          "text": [
            "+-------------+----------------+-----------+--------------+--------------------+-------------------+--------------------+-------+----+---------+-------+-------+\n",
            "|fixed acidity|volatile acidity|citric acid|residual sugar|           chlorides|free sulfur dioxide|total sulfur dioxide|density|  pH|sulphates|alcohol|quality|\n",
            "+-------------+----------------+-----------+--------------+--------------------+-------------------+--------------------+-------+----+---------+-------+-------+\n",
            "|          7.3|            0.65|        0.0|           1.2|               0.065|               15.0|                21.0| 0.9946|3.39|     0.47|   10.0|      7|\n",
            "|          7.8|            0.58|       0.02|           2.0|               0.073|                9.0|                18.0| 0.9968|3.36|     0.57|    9.5|      7|\n",
            "|          8.5|            0.28|       0.56|           1.8|               0.092|               35.0|               103.0| 0.9969| 3.3|     0.75|   10.5|      7|\n",
            "|          8.1|            0.38|       0.28|           2.1|               0.066|               13.0|                30.0| 0.9968|3.23|     0.73|    9.7|      7|\n",
            "|          7.5|            0.52|       0.16|           1.9|               0.085|               12.0|                35.0| 0.9968|3.38|     0.62|    9.5|      7|\n",
            "|          8.0|            0.59|       0.16|           1.8|               0.065|                3.0|                16.0| 0.9962|3.42|     0.92|   10.5|      7|\n",
            "|          5.4|           0.835|       0.08|           1.2|               0.046|               13.0|                93.0| 0.9924|3.57|     0.85|   13.0|      7|\n",
            "|          9.6|            0.32|       0.47|           1.4|0.055999999999999994|                9.0|                24.0|0.99695|3.22|     0.82|   10.3|      7|\n",
            "|         12.8|             0.3|       0.74|           2.6|               0.095|                9.0|                28.0| 0.9994| 3.2|     0.77|   10.8|      7|\n",
            "|         12.8|             0.3|       0.74|           2.6|               0.095|                9.0|                28.0| 0.9994| 3.2|     0.77|   10.8|      7|\n",
            "|         11.0|             0.3|       0.58|           2.1|0.054000000000000006|                7.0|                19.0|  0.998|3.31|     0.88|   10.5|      7|\n",
            "|          5.2|            0.48|       0.04|           1.6|0.054000000000000006|               19.0|               106.0| 0.9927|3.54|     0.62|   12.2|      7|\n",
            "|         15.0|            0.21|       0.44|           2.2|               0.075|               10.0|                24.0|1.00005|3.07|     0.84|    9.2|      7|\n",
            "|         15.0|            0.21|       0.44|           2.2|               0.075|               10.0|                24.0|1.00005|3.07|     0.84|    9.2|      7|\n",
            "|         10.0|            0.31|       0.47|           2.6|               0.085|               14.0|                33.0|0.99965|3.36|      0.8|   10.5|      7|\n",
            "|         11.8|            0.26|       0.52|           1.8|               0.071|                6.0|                10.0| 0.9968| 3.2|     0.72|   10.2|      7|\n",
            "|          7.9|            0.35|       0.46|           3.6|               0.078|               15.0|                37.0| 0.9973|3.35|     0.86|   12.8|      8|\n",
            "|         10.3|            0.32|       0.45|           6.4|               0.073|                5.0|                13.0| 0.9976|3.23|     0.82|   12.6|      8|\n",
            "|          8.9|             0.4|       0.32|           5.6|               0.087|               10.0|                47.0| 0.9991|3.38|     0.77|   10.5|      7|\n",
            "|          7.7|            0.27|       0.68|           3.5|               0.358|                5.0|                10.0| 0.9972|3.25|     1.08|    9.9|      7|\n",
            "+-------------+----------------+-----------+--------------+--------------------+-------------------+--------------------+-------+----+---------+-------+-------+\n",
            "only showing top 20 rows\n",
            "\n"
          ]
        }
      ]
    },
    {
      "cell_type": "code",
      "source": [
        "spark.stop()"
      ],
      "metadata": {
        "id": "WPIevuPzR4Ay"
      },
      "execution_count": null,
      "outputs": []
    }
  ]
}